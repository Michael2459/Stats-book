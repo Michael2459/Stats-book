{
 "cells": [
  {
   "cell_type": "markdown",
   "metadata": {},
   "source": [
    "# Bar charts, pie charts and frequency density charts"
   ]
  },
  {
   "cell_type": "markdown",
   "metadata": {},
   "source": [
    "As this is the first Jupyter notebook we provide more explanation of what is being done, and why, than in later notebooks.  In a Jupyter notebook you have two types of cells: text (like this cell) and (Python) code.  The latter have 'In [ ]: next to them and a 'play' button which you click to 'run' the cell, which returns some output (or at least does something).  You can run each cell individually or all of them at once (via the 'Kernel' menu).  While running, and asterisk appears in the [ ], when finished a number appears. If no error message appears, it's worked.  \n",
    "\n",
    "You can edit the code in a cell and/or add new cells.  In so doing you can experiment and learn how to analyse data using Python.  At the end of each notebook are a few suggested exercises."
   ]
  },
  {
   "cell_type": "markdown",
   "metadata": {},
   "source": [
    "The first thing we do in most notebooks is to import any libraries that we need.  Libraries contain additional commands and functions beyond the basic Python language.  In the next cell we import 'pandas', a library of routines for reading and manipulating data, and then 'mathplotlib' which contains routines for drawing graphs.  \n",
    "\n",
    "The 'as pd' or 'as plt' part of the command means we can use the abbreviation pd for pandas and plt for mathplotlib.pyplot.  The second import statement does not import the whole matplotlib library (which you can do) but just the pyplot component of it, the only part we need for this notebook.  Run the cell now to execute those commands.  Nothing seems to happen but don't worry.  All they did was import some material and since we did not get an error message, all is well."
   ]
  },
  {
   "cell_type": "code",
   "execution_count": 1,
   "metadata": {},
   "outputs": [],
   "source": [
    "import pandas as pd\n",
    "import matplotlib.pyplot as plt"
   ]
  },
  {
   "cell_type": "markdown",
   "metadata": {},
   "source": [
    "Next we read a data file from disk.  In this case it is the education data used in chapter 1.  We use a pandas (pd, remember?) method to read the file (which is in csv format).  In Python, the data are contained in a 'dataframe', which here we give the abbreviation 'df'.  Any name will do, e.g. my_data, or educ, it is up to you.  However, it is better to use something generic such as 'df' which allows you to re-use code easily.\n",
    "\n",
    "The 'df.head' command shows the first few lines of data (here four) as a confirmation that we have the right data.  Run the cell now."
   ]
  },
  {
   "cell_type": "code",
   "execution_count": 2,
   "metadata": {},
   "outputs": [
    {
     "data": {
      "text/html": [
       "<div>\n",
       "<style scoped>\n",
       "    .dataframe tbody tr th:only-of-type {\n",
       "        vertical-align: middle;\n",
       "    }\n",
       "\n",
       "    .dataframe tbody tr th {\n",
       "        vertical-align: top;\n",
       "    }\n",
       "\n",
       "    .dataframe thead th {\n",
       "        text-align: right;\n",
       "    }\n",
       "</style>\n",
       "<table border=\"1\" class=\"dataframe\">\n",
       "  <thead>\n",
       "    <tr style=\"text-align: right;\">\n",
       "      <th></th>\n",
       "      <th>status</th>\n",
       "      <th>higher_ed</th>\n",
       "      <th>a_levels</th>\n",
       "      <th>other</th>\n",
       "      <th>none</th>\n",
       "      <th>total</th>\n",
       "    </tr>\n",
       "  </thead>\n",
       "  <tbody>\n",
       "    <tr>\n",
       "      <th>0</th>\n",
       "      <td>In work</td>\n",
       "      <td>9713.0</td>\n",
       "      <td>5479.0</td>\n",
       "      <td>10173.0</td>\n",
       "      <td>1965.0</td>\n",
       "      <td>27330.0</td>\n",
       "    </tr>\n",
       "    <tr>\n",
       "      <th>1</th>\n",
       "      <td>Unemployed</td>\n",
       "      <td>394.0</td>\n",
       "      <td>432.0</td>\n",
       "      <td>1166.0</td>\n",
       "      <td>382.0</td>\n",
       "      <td>2374.0</td>\n",
       "    </tr>\n",
       "    <tr>\n",
       "      <th>2</th>\n",
       "      <td>Inactive</td>\n",
       "      <td>1256.0</td>\n",
       "      <td>1440.0</td>\n",
       "      <td>3277.0</td>\n",
       "      <td>2112.0</td>\n",
       "      <td>8084.0</td>\n",
       "    </tr>\n",
       "    <tr>\n",
       "      <th>3</th>\n",
       "      <td>Total</td>\n",
       "      <td>11362.0</td>\n",
       "      <td>7352.0</td>\n",
       "      <td>14615.0</td>\n",
       "      <td>4458.0</td>\n",
       "      <td>37788.0</td>\n",
       "    </tr>\n",
       "  </tbody>\n",
       "</table>\n",
       "</div>"
      ],
      "text/plain": [
       "       status  higher_ed  a_levels    other    none    total\n",
       "0     In work     9713.0    5479.0  10173.0  1965.0  27330.0\n",
       "1  Unemployed      394.0     432.0   1166.0   382.0   2374.0\n",
       "2    Inactive     1256.0    1440.0   3277.0  2112.0   8084.0\n",
       "3       Total    11362.0    7352.0  14615.0  4458.0  37788.0"
      ]
     },
     "execution_count": 2,
     "metadata": {},
     "output_type": "execute_result"
    }
   ],
   "source": [
    "df = pd.read_csv('education.csv')\n",
    "df.head(4) "
   ]
  },
  {
   "cell_type": "markdown",
   "metadata": {},
   "source": [
    "These data are the same as in Table 1.1 of the book.  "
   ]
  },
  {
   "cell_type": "markdown",
   "metadata": {},
   "source": [
    "## A simple bar chart\n",
    "\n",
    "The first thing we do is to recreate Figure 1.1 of the book, a bar chart of the data in the 'In work' row.  The commands are below, with comments (preceded by '#') as to their meaning."
   ]
  },
  {
   "cell_type": "code",
   "execution_count": null,
   "metadata": {},
   "outputs": [],
   "source": [
    "labels = ['higher_ed', 'a_levels', 'other', 'none']       # These will be the x-axis labels\n",
    "values = [9713, 5479, 10173, 1965]                        # These are the heights of the bars to graph\n",
    "plt.bar(labels, values)                                   # This is the command that constructs a bar chart\n",
    "plt.xlabel('Level of qualification')                      # The next three commands label the axes and provide a title\n",
    "plt.ylabel('Number')                                      # They are optional, the chart would still appear in their\n",
    "plt.title('Qualifications of those in work')              # absence but it is better to have these.\n",
    "plt.show()                                                # Finally, display the graph"
   ]
  },
  {
   "cell_type": "markdown",
   "metadata": {},
   "source": [
    "There are many more options to the plt command, to improve the graph or change it in various ways.  In these notebooks we'll keep all these to a minimum.  You can experiment yourselves to do things like change colours, font, etc.  One simple thing you might try, is to change the category labels, more like English.  You need to change the first line of the code.  Give it a try, then run the cell again."
   ]
  },
  {
   "cell_type": "markdown",
   "metadata": {},
   "source": [
    "## A multiple bar chart\n",
    "\n",
    "Next we will do something more complex, a multiple bar chart (it is actually Figure 1.2 in the book).  This requires more coding as you can see in the cell below.  But remember, you only need to figure this out once, then you can reuse the code for different data, so in the longer term it saves you time. \n",
    "\n",
    "The chart is similar to the one above but also includes the unemployed and inactive categories, all in one chart.  Run the cell to see the result, then look through the code to see how it is constructed."
   ]
  },
  {
   "cell_type": "code",
   "execution_count": null,
   "metadata": {},
   "outputs": [],
   "source": [
    "import numpy as np                                       # Some tools needed from this library                      \n",
    "\n",
    "labels = ['higher_ed', 'a_levels', 'other', 'none']      # Labels for the x-axis\n",
    "in_work = [9713, 5479, 10173, 1965]                      # Data copied from manually from dataframe.  Tedious!\n",
    "unemployed = [394.0, 432.0, 1166.0, 382.0]               # See below for better way.\n",
    "inactive = [1256.0, 1440.0, 3277.0, 2112.0]\n",
    "\n",
    "# Alternative way of referencing the data, directly from the dataframe. Uncomment the three lines below and \n",
    "# run the cell again. This will overwrite the three commands above (unless you comment those out.)\n",
    "#in_work = df.iloc[0,1:5] \n",
    "#unemployed = df.iloc[1,1:5]\n",
    "#inactive = df.iloc[2,1:5]\n",
    "\n",
    "# How the alternative method works: df.iloc[0, 1:5] refers to cells in the dataframe, in row 0, columns 1 to 5. \n",
    "# But there's a trap...  Python counts from 0, not 1, so 1 refers to the second column of the dataframe ('higher_ed')\n",
    "# Second trap...  The 1:5 instruction means go from 1 up to (but not including) 5.  This is why column 5 ('total')\n",
    "# does not appear in the graph.  It's confusing at first to count this way and takes some getting used to.\n",
    "\n",
    "x = np.arange(len(labels))                                # Needed for technical reasons, don't ask.\n",
    "width = 0.25                                              # the width of the bars\n",
    "\n",
    "# This is where the plots get drawn, one command per category\n",
    "fig, ax = plt.subplots()                                              \n",
    "rects1 = ax.bar(x - width, in_work, width, label='In work')            # Draw the 'in work' bar, etc\n",
    "rects2 = ax.bar(x, unemployed, width, label='Unemployed')\n",
    "rects3 = ax.bar(x + width, inactive, width, label='Inactive')\n",
    " \n",
    "# Add some text for labels, title and custom x-axis tick labels, etc.\n",
    "ax.set_xlabel('Level of qualification')\n",
    "ax.set_ylabel('Numbers')\n",
    "ax.set_title('Education and employment status')\n",
    "ax.set_xticks(x)\n",
    "ax.set_xticklabels(labels)\n",
    "ax.legend()\n",
    "\n",
    "# Finally, display the chart\n",
    "plt.show()"
   ]
  },
  {
   "cell_type": "markdown",
   "metadata": {},
   "source": [
    "## Pie chart\n",
    "\n",
    "Now we draw a pie chart of the data, showing the qualifications of those in work, as in Figure 1.5 of the book.  It is slightly different as it contains the percentage in each qualification category rather than the absolute number.  This is arguably more useful.  We leave it as an exercise if you want to put the absolute numbers in instead."
   ]
  },
  {
   "cell_type": "code",
   "execution_count": null,
   "metadata": {},
   "outputs": [],
   "source": [
    "# Pie chart, where the slices will be ordered and plotted clockwise:\n",
    "labels = 'Higher education', 'A levels', 'Other', 'None'           # Labels for the slices\n",
    "in_work = df.iloc[0, 1:5]                                          # Grab the data to graph\n",
    "\n",
    "plt.pie(in_work, labels=labels, autopct='%1.1f%%',                 # Creates the chart\n",
    "        counterclock = False, startangle=90)\n",
    "plt.title('Qualifications of those in work')                       # Add title\n",
    "\n",
    "plt.show()                                                         # Display the chart"
   ]
  },
  {
   "cell_type": "markdown",
   "metadata": {},
   "source": [
    "## Suggested exercises\n",
    "\n",
    "Now you have completed the first Jupyter notebook it is time to practise.  Play around with the code and see what happens, try to create a new chart, etc.  Here's some suggestions:\n",
    "\n",
    "1. Try changing the 'labels = ...' statement to give labels which are more grammatical or easy to read, for the simple bar chart.\n",
    "2. Change the color of the simple bar chart.  Change the 'plt.bar()' command so it reads plt.bar(labels, values, color = 'red').\n",
    "3. Draw a similar pie chart to the one above, but for the unemployed category.  Change the df.iloc() function so it uses row 1 rather than row 0.  You'll need to change the title too."
   ]
  },
  {
   "cell_type": "code",
   "execution_count": null,
   "metadata": {},
   "outputs": [],
   "source": []
  }
 ],
 "metadata": {
  "hide_input": false,
  "kernelspec": {
   "display_name": "Python 3",
   "language": "python",
   "name": "python3"
  },
  "language_info": {
   "codemirror_mode": {
    "name": "ipython",
    "version": 3
   },
   "file_extension": ".py",
   "mimetype": "text/x-python",
   "name": "python",
   "nbconvert_exporter": "python",
   "pygments_lexer": "ipython3",
   "version": "3.8.3"
  }
 },
 "nbformat": 4,
 "nbformat_minor": 2
}
